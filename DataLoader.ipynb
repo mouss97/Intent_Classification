{
 "cells": [
  {
   "cell_type": "code",
   "execution_count": 6,
   "metadata": {},
   "outputs": [],
   "source": [
    "import os\n",
    "import pandas as pd\n",
    "\n",
    "# Chemin du répertoire contenant les dossiers de données\n",
    "chemin_repertoire = \"Data/swda\"\n",
    "\n",
    "train_data = {}\n",
    "test_data = {}\n",
    "\n",
    "# Parcours de tous les dossiers dans le répertoire\n",
    "for dossier in os.listdir(chemin_repertoire):\n",
    "    \n",
    "\n",
    "    if dossier == 'swda':\n",
    "        # delimiter = tabulation\n",
    "        chemin_dossier = os.path.join(chemin_repertoire, dossier)\n",
    "        fichier_train = os.path.join(chemin_dossier, \"train.csv\")\n",
    "        fichier_test = os.path.join(chemin_dossier, \"test.csv\")\n",
    "        train_data[dossier] = pd.read_csv(fichier_train, delimiter='\\t')\n",
    "        test_data[dossier] = pd.read_csv(fichier_test, delimiter='\\t')"
   ]
  },
  {
   "cell_type": "code",
   "execution_count": 12,
   "metadata": {},
   "outputs": [
    {
     "data": {
      "text/plain": [
       "array(['sd', 'b', 'sv_fx', '+', 'qy^d', 'na', '%', 'x', 'qo', 'ba_fe',\n",
       "       'qy_qr', 'ny', 'h', 'aa', 'fc', 'ad', 'bh', 'nn', 'b^m',\n",
       "       'fo_o_fw_by_bc_\"', 'qh', 'bk', 'qw', 'bf', 'ng', '^2', 'no',\n",
       "       'arp_nd', 'qw^d', '^q', '^h', 'br', 'ar', 'qrr', 'ft', 'fp', 'bd',\n",
       "       't3', 't1', 'oo_co_cc', '^g', 'fa', 'aap_am'], dtype=object)"
      ]
     },
     "execution_count": 12,
     "metadata": {},
     "output_type": "execute_result"
    }
   ],
   "source": [
    "train_data['swda']['Dialogue_Act'].unique()"
   ]
  },
  {
   "cell_type": "code",
   "execution_count": null,
   "metadata": {},
   "outputs": [],
   "source": []
  }
 ],
 "metadata": {
  "kernelspec": {
   "display_name": "Python 3.9.7 ('base')",
   "language": "python",
   "name": "python3"
  },
  "language_info": {
   "codemirror_mode": {
    "name": "ipython",
    "version": 3
   },
   "file_extension": ".py",
   "mimetype": "text/x-python",
   "name": "python",
   "nbconvert_exporter": "python",
   "pygments_lexer": "ipython3",
   "version": "3.9.7"
  },
  "orig_nbformat": 4,
  "vscode": {
   "interpreter": {
    "hash": "fce8caecc736f93ebdb7a23da1b6969f955095e1be0f1f9ace55fffb3785cae8"
   }
  }
 },
 "nbformat": 4,
 "nbformat_minor": 2
}
