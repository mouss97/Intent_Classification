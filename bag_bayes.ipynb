{
 "cells": [
  {
   "cell_type": "code",
   "execution_count": 20,
   "metadata": {},
   "outputs": [],
   "source": [
    "from datasets import load_dataset\n",
    "import random\n",
    "from sklearn.feature_extraction.text import CountVectorizer\n",
    "from sklearn.model_selection import train_test_split\n",
    "from sklearn.naive_bayes import MultinomialNB\n",
    "from sklearn.metrics import accuracy_score, classification_report"
   ]
  },
  {
   "cell_type": "code",
   "execution_count": 21,
   "metadata": {},
   "outputs": [
    {
     "name": "stderr",
     "output_type": "stream",
     "text": [
      "Found cached dataset silicone (/Users/moustaphalo/.cache/huggingface/datasets/silicone/maptask/1.0.0/af617406c94e3f78da85f7ea74ebfbd3f297a9665cb54adbae305b03bc4442a5)\n"
     ]
    },
    {
     "data": {
      "application/vnd.jupyter.widget-view+json": {
       "model_id": "6c3c63501cc74aee82c7471b937fe9b0",
       "version_major": 2,
       "version_minor": 0
      },
      "text/plain": [
       "  0%|          | 0/3 [00:00<?, ?it/s]"
      ]
     },
     "metadata": {},
     "output_type": "display_data"
    }
   ],
   "source": [
    "# Load the dataset\n",
    "dataset = load_dataset(\"silicone\", \"maptask\")"
   ]
  },
  {
   "cell_type": "code",
   "execution_count": 23,
   "metadata": {},
   "outputs": [],
   "source": [
    "# Separate the dataset into train val and test\n",
    "train_dataset = dataset[\"train\"]\n",
    "val_dataset = dataset[\"validation\"]\n",
    "test_dataset = dataset[\"test\"]\n",
    "\n",
    "# Extract the utterances and labels\n",
    "train_X = train_dataset[\"Utterance\"]\n",
    "train_y = train_dataset[\"Label\"]\n",
    "\n",
    "val_X = val_dataset[\"Utterance\"]\n",
    "val_y = val_dataset[\"Label\"]\n",
    "\n",
    "test_X = test_dataset[\"Utterance\"]\n",
    "test_y = test_dataset[\"Label\"]"
   ]
  },
  {
   "cell_type": "code",
   "execution_count": 26,
   "metadata": {},
   "outputs": [],
   "source": [
    "# Create the Bag-of-Words feature matrix\n",
    "vectorizer = CountVectorizer()\n",
    "train_features = vectorizer.fit_transform(train_X)\n",
    "test_features = vectorizer.transform(test_X)"
   ]
  },
  {
   "cell_type": "code",
   "execution_count": 27,
   "metadata": {},
   "outputs": [],
   "source": [
    "# Build the Naive Bayes model\n",
    "nb_model = MultinomialNB()\n",
    "\n",
    "# Train the Naive Bayes model\n",
    "nb_model.fit(train_features, train_y)\n",
    "\n",
    "# Predict the labels on the test set\n",
    "y_pred = nb_model.predict(test_features)\n",
    "\n",
    "# Calculate accuracy and print classification report\n",
    "accuracy = accuracy_score(test_y, y_pred)\n",
    "report = classification_report(test_y, y_pred)"
   ]
  },
  {
   "cell_type": "code",
   "execution_count": 28,
   "metadata": {},
   "outputs": [
    {
     "name": "stdout",
     "output_type": "stream",
     "text": [
      "Accuracy: 0.55\n",
      "Classification Report:\n",
      "              precision    recall  f1-score   support\n",
      "\n",
      "           0       0.68      0.67      0.67       659\n",
      "           1       0.42      0.28      0.34       151\n",
      "           2       0.31      0.19      0.23       254\n",
      "           3       0.11      0.02      0.04       162\n",
      "           4       0.46      0.55      0.50       223\n",
      "           5       0.45      0.83      0.59       463\n",
      "           6       0.73      0.59      0.65        86\n",
      "           7       0.63      0.60      0.61       173\n",
      "           8       0.68      0.39      0.49       191\n",
      "           9       0.74      0.85      0.79        96\n",
      "          10       0.06      0.01      0.02       102\n",
      "          11       0.67      0.74      0.71       334\n",
      "\n",
      "    accuracy                           0.55      2894\n",
      "   macro avg       0.49      0.48      0.47      2894\n",
      "weighted avg       0.53      0.55      0.52      2894\n",
      "\n"
     ]
    }
   ],
   "source": [
    "print(f'Accuracy: {accuracy:.2f}')\n",
    "print('Classification Report:')\n",
    "print(report)"
   ]
  }
 ],
 "metadata": {
  "kernelspec": {
   "display_name": "Python 3.9.7 ('base')",
   "language": "python",
   "name": "python3"
  },
  "language_info": {
   "codemirror_mode": {
    "name": "ipython",
    "version": 3
   },
   "file_extension": ".py",
   "mimetype": "text/x-python",
   "name": "python",
   "nbconvert_exporter": "python",
   "pygments_lexer": "ipython3",
   "version": "3.9.7"
  },
  "orig_nbformat": 4,
  "vscode": {
   "interpreter": {
    "hash": "fce8caecc736f93ebdb7a23da1b6969f955095e1be0f1f9ace55fffb3785cae8"
   }
  }
 },
 "nbformat": 4,
 "nbformat_minor": 2
}
