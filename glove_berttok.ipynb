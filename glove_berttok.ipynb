{
 "cells": [
  {
   "cell_type": "code",
   "execution_count": 1,
   "metadata": {},
   "outputs": [],
   "source": [
    "from datasets import load_dataset\n",
    "import random\n",
    "import numpy as np\n",
    "import os\n",
    "from sklearn.model_selection import train_test_split\n",
    "from sklearn.metrics import accuracy_score, classification_report\n",
    "from tensorflow.keras.preprocessing.text import Tokenizer\n",
    "from tensorflow.keras.preprocessing.sequence import pad_sequences\n",
    "from tensorflow.keras.models import Sequential\n",
    "from tensorflow.keras.layers import Embedding, Bidirectional, LSTM, Dense\n",
    "import tensorflow as tf"
   ]
  },
  {
   "cell_type": "code",
   "execution_count": 2,
   "metadata": {},
   "outputs": [
    {
     "name": "stderr",
     "output_type": "stream",
     "text": [
      "Found cached dataset silicone (C:/Users/ilyes/.cache/huggingface/datasets/silicone/maptask/1.0.0/af617406c94e3f78da85f7ea74ebfbd3f297a9665cb54adbae305b03bc4442a5)\n"
     ]
    },
    {
     "data": {
      "application/vnd.jupyter.widget-view+json": {
       "model_id": "4dfbcc375a214612a42bf7e04c321bc5",
       "version_major": 2,
       "version_minor": 0
      },
      "text/plain": [
       "  0%|          | 0/3 [00:00<?, ?it/s]"
      ]
     },
     "metadata": {},
     "output_type": "display_data"
    }
   ],
   "source": [
    "# Load the dataset\n",
    "dataset = load_dataset(\"silicone\", \"maptask\")"
   ]
  },
  {
   "cell_type": "code",
   "execution_count": 3,
   "metadata": {},
   "outputs": [],
   "source": [
    "# Separate the dataset into train val and test\n",
    "train_dataset = dataset[\"train\"]\n",
    "val_dataset = dataset[\"validation\"]\n",
    "test_dataset = dataset[\"test\"]\n",
    "\n",
    "# Extract the utterances and labels\n",
    "train_X = train_dataset[\"Utterance\"]\n",
    "train_y = train_dataset[\"Label\"]\n",
    "\n",
    "val_X = val_dataset[\"Utterance\"]\n",
    "val_y = val_dataset[\"Label\"]\n",
    "\n",
    "test_X = test_dataset[\"Utterance\"]\n",
    "test_y = test_dataset[\"Label\"]"
   ]
  },
  {
   "cell_type": "code",
   "execution_count": 4,
   "metadata": {},
   "outputs": [
    {
     "data": {
      "text/plain": [
       "(20905, 20905)"
      ]
     },
     "execution_count": 4,
     "metadata": {},
     "output_type": "execute_result"
    }
   ],
   "source": [
    "len(train_X),len(train_y)"
   ]
  },
  {
   "cell_type": "code",
   "execution_count": 5,
   "metadata": {},
   "outputs": [
    {
     "name": "stderr",
     "output_type": "stream",
     "text": [
      "Some layers from the model checkpoint at bert-base-cased were not used when initializing TFBertModel: ['mlm___cls', 'nsp___cls']\n",
      "- This IS expected if you are initializing TFBertModel from the checkpoint of a model trained on another task or with another architecture (e.g. initializing a BertForSequenceClassification model from a BertForPreTraining model).\n",
      "- This IS NOT expected if you are initializing TFBertModel from the checkpoint of a model that you expect to be exactly identical (initializing a BertForSequenceClassification model from a BertForSequenceClassification model).\n",
      "All the layers of TFBertModel were initialized from the model checkpoint at bert-base-cased.\n",
      "If your task is similar to the task the model of the checkpoint was trained on, you can already use TFBertModel for predictions without further training.\n"
     ]
    }
   ],
   "source": [
    "# Tokenize the text data\n",
    "# tokenizer = Tokenizer()\n",
    "# tokenizer.fit_on_texts(train_X)\n",
    "\n",
    "from transformers import AutoTokenizer, TFBertModel \n",
    "\n",
    "tokenizer = AutoTokenizer.from_pretrained('bert-base-cased')\n",
    "bert = TFBertModel.from_pretrained('bert-base-cased')\n",
    "\n",
    "# Tokenize the data\n",
    "train_encodings = tokenizer(train_X, truncation=True, padding=True)\n",
    "val_encodings = tokenizer(val_X, truncation=True, padding=True)\n",
    "test_encodings = tokenizer(test_X, truncation=True, padding=True)\n",
    "\n",
    "# Pad val_encodings and test_encodings to 124\n",
    "val_encodings['input_ids'] = tf.keras.preprocessing.sequence.pad_sequences(val_encodings['input_ids'], maxlen=124, dtype=\"long\", value=0, truncating=\"post\", padding=\"post\")\n",
    "# val_encodings['attention_mask'] = tf.keras.preprocessing.sequence.pad_sequences(val_encodings['attention_mask'], maxlen=124, dtype=\"long\", value=0, truncating=\"post\", padding=\"post\")\n",
    "\n",
    "test_encodings['input_ids'] = tf.keras.preprocessing.sequence.pad_sequences(test_encodings['input_ids'], maxlen=124, dtype=\"long\", value=0, truncating=\"post\", padding=\"post\")\n",
    "# test_encodings['attention_mask'] = tf.keras.preprocessing.sequence.pad_sequences(test_encodings['attention_mask'], maxlen=124, dtype=\"long\", value=0, truncating=\"post\", padding=\"post\")\n",
    "\n",
    "# Convert the data to tf dataset\n",
    "# train_dataset = tf.data.Dataset.from_tensor_slices((\n",
    "#     dict(train_encodings),\n",
    "#     train_y\n",
    "# ))\n",
    "\n",
    "# val_dataset = tf.data.Dataset.from_tensor_slices((\n",
    "#     dict(val_encodings),\n",
    "#     val_y\n",
    "# ))\n",
    "\n",
    "# test_dataset = tf.data.Dataset.from_tensor_slices((\n",
    "#     dict(test_encodings),\n",
    "#     test_y\n",
    "# ))\n",
    "\n",
    "train_data = train_encodings['input_ids']\n",
    "val_data = val_encodings['input_ids']\n",
    "test_data = test_encodings['input_ids']"
   ]
  },
  {
   "cell_type": "code",
   "execution_count": 6,
   "metadata": {},
   "outputs": [],
   "source": [
    "# Convert text data to sequences of integers\n",
    "# train_sequences = tokenizer.texts_to_sequences(train_X)\n",
    "# test_sequences = tokenizer.texts_to_sequences(test_X)"
   ]
  },
  {
   "cell_type": "code",
   "execution_count": 7,
   "metadata": {},
   "outputs": [],
   "source": [
    "# Pad sequences to have the same length\n",
    "# max_sequence_length = max(len(seq) for seq in train_sequences + test_sequences)\n",
    "# train_data_ = pad_sequences(train_sequences, maxlen=max_sequence_length, padding='post')\n",
    "# test_data_ = pad_sequences(test_sequences, maxlen=max_sequence_length, padding='post')\n",
    "\n",
    "max_sequence_length = 124"
   ]
  },
  {
   "cell_type": "code",
   "execution_count": 8,
   "metadata": {},
   "outputs": [],
   "source": [
    "# Convert array to list\n",
    "# train_data = train_data_.tolist()\n",
    "# test_data = test_data_.tolist()\n",
    "train_data = np.asarray(train_data)\n",
    "val_data = np.asarray(val_data)\n",
    "test_data = np.asarray(test_data)\n",
    "\n",
    "train_y = np.asarray(train_y)\n",
    "val_y = np.asarray(val_y)\n",
    "test_y = np.asarray(test_y)"
   ]
  },
  {
   "cell_type": "code",
   "execution_count": 9,
   "metadata": {},
   "outputs": [],
   "source": [
    "# !wget http://nlp.stanford.edu/data/glove.6B.zip\n",
    "# !unzip -q glove.6B.zip"
   ]
  },
  {
   "cell_type": "code",
   "execution_count": 10,
   "metadata": {},
   "outputs": [],
   "source": [
    "# Load pre-trained GloVe embeddings\n",
    "glove_path = \"glove.6B.100d.txt\"\n",
    "# Update with the path to your GloVe file\n",
    "embedding_dim = 100  # The dimensionality of the GloVe embeddings\n",
    "embeddings_index = {}\n",
    "with open(glove_path) as f:\n",
    "    for line in f:\n",
    "        values = line.split()\n",
    "        word = values[0]\n",
    "        coefs = np.asarray(values[1:], dtype='float32')\n",
    "        embeddings_index[word] = coefs"
   ]
  },
  {
   "cell_type": "code",
   "execution_count": 11,
   "metadata": {},
   "outputs": [],
   "source": [
    "# Create an embedding matrix for the words in the dataset\n",
    "# word_index = tokenizer.word_index\n",
    "word_index = tokenizer.get_vocab()\n",
    "num_words = len(word_index) + 1\n",
    "embedding_matrix = np.zeros((num_words, embedding_dim))\n",
    "for word, i in word_index.items():\n",
    "    if i < num_words:\n",
    "        embedding_vector = embeddings_index.get(word)\n",
    "        if embedding_vector is not None:\n",
    "            embedding_matrix[i] = embedding_vector"
   ]
  },
  {
   "cell_type": "code",
   "execution_count": 12,
   "metadata": {},
   "outputs": [],
   "source": [
    "# Build the model\n",
    "model = Sequential()\n",
    "model.add(Embedding(num_words, embedding_dim, weights=[embedding_matrix], input_length=max_sequence_length, trainable=False))\n",
    "model.add(Bidirectional(LSTM(64)))\n",
    "model.add(Dense(12, activation='softmax'))"
   ]
  },
  {
   "cell_type": "code",
   "execution_count": 13,
   "metadata": {},
   "outputs": [
    {
     "name": "stdout",
     "output_type": "stream",
     "text": [
      "Epoch 1/10\n",
      "654/654 [==============================] - 49s 68ms/step - loss: 1.4987 - accuracy: 0.4961 - val_loss: 1.3273 - val_accuracy: 0.5674\n",
      "Epoch 2/10\n",
      "654/654 [==============================] - 50s 76ms/step - loss: 1.2213 - accuracy: 0.5814 - val_loss: 1.2226 - val_accuracy: 0.6037\n",
      "Epoch 3/10\n",
      "654/654 [==============================] - 84s 128ms/step - loss: 1.1495 - accuracy: 0.6011 - val_loss: 1.1787 - val_accuracy: 0.6137\n",
      "Epoch 4/10\n",
      "654/654 [==============================] - 120s 183ms/step - loss: 1.1033 - accuracy: 0.6128 - val_loss: 1.1826 - val_accuracy: 0.6057\n",
      "Epoch 5/10\n",
      "654/654 [==============================] - 95s 146ms/step - loss: 1.0713 - accuracy: 0.6247 - val_loss: 1.1738 - val_accuracy: 0.6078\n",
      "Epoch 6/10\n",
      "654/654 [==============================] - 79s 121ms/step - loss: 1.0436 - accuracy: 0.6285 - val_loss: 1.1595 - val_accuracy: 0.6164\n",
      "Epoch 7/10\n",
      "654/654 [==============================] - 81s 124ms/step - loss: 1.0181 - accuracy: 0.6385 - val_loss: 1.1490 - val_accuracy: 0.6140\n",
      "Epoch 8/10\n",
      "654/654 [==============================] - 86s 132ms/step - loss: 0.9964 - accuracy: 0.6428 - val_loss: 1.1473 - val_accuracy: 0.6102\n",
      "Epoch 9/10\n",
      "654/654 [==============================] - 84s 129ms/step - loss: 0.9769 - accuracy: 0.6490 - val_loss: 1.1507 - val_accuracy: 0.6192\n",
      "Epoch 10/10\n",
      "654/654 [==============================] - 116s 177ms/step - loss: 0.9606 - accuracy: 0.6539 - val_loss: 1.1585 - val_accuracy: 0.6209\n"
     ]
    },
    {
     "data": {
      "text/plain": [
       "<keras.callbacks.History at 0x229d0726490>"
      ]
     },
     "execution_count": 13,
     "metadata": {},
     "output_type": "execute_result"
    }
   ],
   "source": [
    "# Compile the model\n",
    "model.compile(optimizer='adam', loss='sparse_categorical_crossentropy', metrics=['accuracy'])\n",
    "\n",
    "# Train the model\n",
    "model.fit(train_data, train_y, validation_data=(test_data, test_y), epochs=10, batch_size=32)"
   ]
  },
  {
   "cell_type": "code",
   "execution_count": 15,
   "metadata": {},
   "outputs": [
    {
     "name": "stdout",
     "output_type": "stream",
     "text": [
      "91/91 [==============================] - 5s 41ms/step\n",
      "Accuracy: 0.62\n",
      "Classification Report:\n",
      "              precision    recall  f1-score   support\n",
      "\n",
      "           0       0.68      0.70      0.69       659\n",
      "           1       0.61      0.31      0.41       151\n",
      "           2       0.38      0.43      0.41       254\n",
      "           3       0.15      0.04      0.07       162\n",
      "           4       0.48      0.74      0.58       223\n",
      "           5       0.67      0.83      0.74       463\n",
      "           6       0.85      0.73      0.79        86\n",
      "           7       0.72      0.68      0.70       173\n",
      "           8       0.74      0.49      0.59       191\n",
      "           9       0.68      0.85      0.76        96\n",
      "          10       0.33      0.07      0.11       102\n",
      "          11       0.68      0.77      0.72       334\n",
      "\n",
      "    accuracy                           0.62      2894\n",
      "   macro avg       0.58      0.55      0.55      2894\n",
      "weighted avg       0.60      0.62      0.60      2894\n",
      "\n"
     ]
    }
   ],
   "source": [
    "# Evaluate the model\n",
    "y_pred = model.predict(test_data)\n",
    "y_pred_labels = np.argmax(y_pred, axis=1)\n",
    "accuracy = accuracy_score(test_y, y_pred_labels)\n",
    "report = classification_report(test_y, y_pred_labels)\n",
    "\n",
    "print(f'Accuracy: {accuracy:.2f}')\n",
    "print('Classification Report:')\n",
    "print(report)"
   ]
  },
  {
   "cell_type": "code",
   "execution_count": null,
   "metadata": {},
   "outputs": [],
   "source": []
  }
 ],
 "metadata": {
  "kernelspec": {
   "display_name": "Python 3.9.7 ('base')",
   "language": "python",
   "name": "python3"
  },
  "language_info": {
   "codemirror_mode": {
    "name": "ipython",
    "version": 3
   },
   "file_extension": ".py",
   "mimetype": "text/x-python",
   "name": "python",
   "nbconvert_exporter": "python",
   "pygments_lexer": "ipython3",
   "version": "3.9.13"
  },
  "orig_nbformat": 4,
  "vscode": {
   "interpreter": {
    "hash": "fce8caecc736f93ebdb7a23da1b6969f955095e1be0f1f9ace55fffb3785cae8"
   }
  }
 },
 "nbformat": 4,
 "nbformat_minor": 2
}
